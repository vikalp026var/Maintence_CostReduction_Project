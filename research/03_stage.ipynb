{
 "cells": [
  {
   "cell_type": "code",
   "execution_count": 1,
   "metadata": {},
   "outputs": [],
   "source": [
    "import os "
   ]
  },
  {
   "cell_type": "code",
   "execution_count": 2,
   "metadata": {},
   "outputs": [
    {
     "data": {
      "text/plain": [
       "'d:\\\\Maintenance-cost-reduction\\\\research'"
      ]
     },
     "execution_count": 2,
     "metadata": {},
     "output_type": "execute_result"
    }
   ],
   "source": [
    "%pwd"
   ]
  },
  {
   "cell_type": "code",
   "execution_count": 3,
   "metadata": {},
   "outputs": [],
   "source": [
    "os.chdir('../')"
   ]
  },
  {
   "cell_type": "code",
   "execution_count": 4,
   "metadata": {},
   "outputs": [
    {
     "data": {
      "text/plain": [
       "'d:\\\\Maintenance-cost-reduction'"
      ]
     },
     "execution_count": 4,
     "metadata": {},
     "output_type": "execute_result"
    }
   ],
   "source": [
    "%pwd"
   ]
  },
  {
   "cell_type": "code",
   "execution_count": 24,
   "metadata": {},
   "outputs": [],
   "source": [
    "from dataclasses import dataclass\n",
    "from src.constant import *\n",
    "from pathlib import Path\n",
    "import pickle \n",
    "from src.exception.exception import CustomException\n",
    "from src.utils.common import load_yaml,create_directories,save_model\n"
   ]
  },
  {
   "cell_type": "code",
   "execution_count": 6,
   "metadata": {},
   "outputs": [],
   "source": [
    "@dataclass(frozen=True)\n",
    "class ModelTrainerConfig:\n",
    "     train_path: Path\n",
    "     test_path:  Path\n",
    "     model_path: Path"
   ]
  },
  {
   "cell_type": "code",
   "execution_count": 7,
   "metadata": {},
   "outputs": [],
   "source": [
    "class ConfrigurationManager:\n",
    "     def __init__(self,\n",
    "                  config_filepath=CONFIG_PATH,\n",
    "                  params_filepath=PARAMS_PATH,\n",
    "                  schema_filepath=SCHEMA_PATH):\n",
    "          self.config=load_yaml(config_filepath)\n",
    "          self.params=load_yaml(params_filepath)\n",
    "          self.schema=load_yaml(schema_filepath)\n",
    "          create_directories([Path(self.config['artifacts_root'])])\n",
    "          \n",
    "     def get_model_trainer_config(self)->ModelTrainerConfig:\n",
    "          config=self.config.model_trainer\n",
    "          \n",
    "          model_trainer_config=ModelTrainerConfig(\n",
    "               train_path=config.train_path,\n",
    "               test_path=config.test_path,\n",
    "               model_path=config.model_path\n",
    "               \n",
    "          )\n",
    "          return model_trainer_config\n",
    "          "
   ]
  },
  {
   "cell_type": "code",
   "execution_count": 10,
   "metadata": {},
   "outputs": [],
   "source": [
    "from sklearn.preprocessing import StandardScaler\n",
    "from sklearn.model_selection import train_test_split\n",
    "from sklearn.metrics import confusion_matrix,accuracy_score\n",
    "from sklearn.preprocessing import StandardScaler\n",
    "from sklearn.model_selection import train_test_split\n",
    "from sklearn.linear_model import LogisticRegression\n",
    "from sklearn.svm import  SVC\n",
    "from sklearn.tree import DecisionTreeClassifier\n",
    "from sklearn.naive_bayes import GaussianNB\n",
    "from sklearn.ensemble import RandomForestClassifier\n",
    "from sklearn.neighbors import KNeighborsClassifier\n",
    "from sklearn.ensemble import  AdaBoostClassifier\n",
    "from sklearn.metrics import confusion_matrix\n",
    "from sklearn.metrics import classification_report,accuracy_score\n",
    "import os \n",
    "import sys \n",
    "import pandas as pd \n",
    "import numpy as np "
   ]
  },
  {
   "cell_type": "code",
   "execution_count": 25,
   "metadata": {},
   "outputs": [],
   "source": [
    "\n",
    "\n",
    "class ModelTrainer:\n",
    "     def __init__(self, config):\n",
    "          self.config = config\n",
    "          \n",
    "     def read_data(self):\n",
    "          try:\n",
    "              train_data = pd.read_csv(self.config.train_path)\n",
    "              test_data = pd.read_csv(self.config.test_path)\n",
    "              return train_data, test_data\n",
    "          except Exception as e:\n",
    "               raise CustomException(e, sys)\n",
    "          \n",
    "     def split_data(self):\n",
    "          try:\n",
    "               train_data, test_data = self.read_data()\n",
    "               X_train = train_data.drop(columns=['failure'])\n",
    "               y_train = train_data['failure']\n",
    "               X_test = test_data.drop(columns=['failure'])\n",
    "               y_test = test_data['failure']\n",
    "               return X_train, X_test, y_train, y_test\n",
    "          \n",
    "          except Exception as e:\n",
    "               raise CustomException(e, sys)\n",
    "          \n",
    "     def standard_scale(self):\n",
    "          try:\n",
    "               X_train, X_test, y_train, y_test = self.split_data()\n",
    "               scaler = StandardScaler()\n",
    "               X_train_scaled = scaler.fit_transform(X_train)\n",
    "               X_test_scaled = scaler.transform(X_test)\n",
    "               return X_train_scaled, X_test_scaled, y_train, y_test\n",
    "          except Exception as e:\n",
    "               raise CustomException(e, sys)\n",
    "     \n",
    "     def model_train(self, models):\n",
    "          model_accuracies = {}\n",
    "          model_objects = {}\n",
    "          try:\n",
    "               X_train_scaled,X_test_scaled,  y_train, y_test = self.standard_scale()\n",
    "               for model_name, model in models.items():\n",
    "                    model.fit(X_train_scaled, y_train)\n",
    "                    y_pred = model.predict(X_test_scaled)\n",
    "                    accuracy = accuracy_score(y_test, y_pred)\n",
    "                    model_accuracies[model_name] = accuracy\n",
    "                    model_objects[model_name] = model \n",
    "                    print(f\"{model_name}: Accuracy score is: {accuracy}\")\n",
    "                    print(confusion_matrix(y_test, y_pred))\n",
    "                    print(\"=\"*40)\n",
    "               return model_accuracies, model_objects, X_train_scaled, y_train\n",
    "          except Exception as e:\n",
    "               raise CustomException(e, sys)\n",
    "          \n",
    "     def get_best_model(self, models):\n",
    "        try:\n",
    "            model_accuracies, model_objects, X_train_scaled, y_train = self.model_train(models)\n",
    "            best_model_name = max(model_accuracies, key=model_accuracies.get)\n",
    "            best_model = model_objects[best_model_name]  # Retrieve the best model object\n",
    "            best_accuracy = model_accuracies[best_model_name]\n",
    "            print(f\"Best Model: {best_model_name}\")\n",
    "            return best_model, best_accuracy, X_train_scaled, y_train\n",
    "        except Exception as e:\n",
    "            raise CustomException(e, sys)\n",
    "    \n",
    "     def save_model_best(self, models):\n",
    "        try:\n",
    "            best_model, best_accuracy, X_train_scaled, y_train = self.get_best_model(models)\n",
    "            best_model.fit(X_train_scaled, y_train)  # Ensure best_model is the actual model object\n",
    "            \n",
    "            # Construct the directory path for the model\n",
    "            model_directory = os.path.join(os.getcwd(), self.config.model_path)\n",
    "            print(f\"Model directory: {model_directory}\")  # Debug print\n",
    "            \n",
    "            # Check if the directory exists, and if not, create it\n",
    "            if not os.path.exists(model_directory):\n",
    "                print(f\"Creating directory: {model_directory}\")  # Debug print\n",
    "                os.makedirs(model_directory)\n",
    "            else:\n",
    "                print(f\"Directory already exists: {model_directory}\")  # Debug print\n",
    "            \n",
    "            # Construct the full path for the model\n",
    "            model_path = os.path.join(model_directory, 'model.pkl')\n",
    "            print(f\"Saving model to: {model_path}\")  # Debug print\n",
    "            \n",
    "            # Save the model\n",
    "            with open(model_path, 'wb') as f:\n",
    "                pickle.dump(best_model, f)\n",
    "            print(\"Model saved successfully!\")  # Debug print\n",
    "            \n",
    "        except Exception as e:\n",
    "            raise CustomException(e, sys)"
   ]
  },
  {
   "cell_type": "code",
   "execution_count": 26,
   "metadata": {},
   "outputs": [],
   "source": [
    "models={\n",
    "     'LogisticRegression':LogisticRegression(),\n",
    "     'SVC':SVC(),\n",
    "     'DecisionTreeClassifier':DecisionTreeClassifier(),\n",
    "     'GaussianNB':GaussianNB(),\n",
    "     'RandomForestClassifier':RandomForestClassifier(),\n",
    "     'KNeighborsClassifier':KNeighborsClassifier(),\n",
    "     'AdaBoostClassifier':AdaBoostClassifier(learning_rate=1)\n",
    "}"
   ]
  },
  {
   "cell_type": "code",
   "execution_count": 27,
   "metadata": {},
   "outputs": [
    {
     "name": "stdout",
     "output_type": "stream",
     "text": [
      "[2024-03-13 17:50:54,446: INFO: common: start the loading  the config\\config.yaml file ]\n",
      "[2024-03-13 17:50:54,454: INFO: common: Load the config\\config.yaml successfully]\n",
      "[2024-03-13 17:50:54,455: INFO: common: start the loading  the params.yaml file ]\n",
      "[2024-03-13 17:50:54,458: INFO: common: Load the params.yaml successfully]\n",
      "[2024-03-13 17:50:54,459: INFO: common: start the loading  the schema.yaml file ]\n",
      "[2024-03-13 17:50:54,461: INFO: common: Load the schema.yaml successfully]\n",
      "[2024-03-13 17:50:54,462: INFO: common: Enter into the create directores in method]\n",
      "[2024-03-13 17:50:54,463: INFO: common: artifacts is create >>>>]\n",
      "LogisticRegression: Accuracy score is: 0.8694706838902998\n",
      "[[24937  2281]\n",
      " [ 4863 22650]]\n",
      "========================================\n",
      "SVC: Accuracy score is: 0.9793535656209461\n",
      "[[26752   466]\n",
      " [  664 26849]]\n",
      "========================================\n",
      "DecisionTreeClassifier: Accuracy score is: 0.9989220003288812\n",
      "[[27176    42]\n",
      " [   17 27496]]\n",
      "========================================\n",
      "GaussianNB: Accuracy score is: 0.8575213316036615\n",
      "[[25338  1880]\n",
      " [ 5918 21595]]\n",
      "========================================\n",
      "RandomForestClassifier: Accuracy score is: 0.999780745829603\n",
      "[[27212     6]\n",
      " [    6 27507]]\n",
      "========================================\n",
      "KNeighborsClassifier: Accuracy score is: 0.9976612888490983\n",
      "[[27090   128]\n",
      " [    0 27513]]\n",
      "========================================\n",
      "AdaBoostClassifier: Accuracy score is: 0.9590177413166213\n",
      "[[26395   823]\n",
      " [ 1420 26093]]\n",
      "========================================\n",
      "Best Model: RandomForestClassifier\n",
      "Model directory: d:\\Maintenance-cost-reduction\\artifacts\\model_trainer\n",
      "Creating directory: d:\\Maintenance-cost-reduction\\artifacts\\model_trainer\n",
      "Saving model to: d:\\Maintenance-cost-reduction\\artifacts\\model_trainer\\model.pkl\n",
      "Model saved successfully!\n"
     ]
    }
   ],
   "source": [
    "try:\n",
    "     config=ConfrigurationManager()\n",
    "     data_ingestion_config=config.get_model_trainer_config()\n",
    "     data_ingestion=ModelTrainer(data_ingestion_config)\n",
    "     data=data_ingestion.save_model_best(models)\n",
    "     # data_ingestion.save_file(data)\n",
    "except Exception as e:\n",
    "     raise e"
   ]
  },
  {
   "cell_type": "code",
   "execution_count": null,
   "metadata": {},
   "outputs": [],
   "source": []
  }
 ],
 "metadata": {
  "kernelspec": {
   "display_name": "Python 3",
   "language": "python",
   "name": "python3"
  },
  "language_info": {
   "codemirror_mode": {
    "name": "ipython",
    "version": 3
   },
   "file_extension": ".py",
   "mimetype": "text/x-python",
   "name": "python",
   "nbconvert_exporter": "python",
   "pygments_lexer": "ipython3",
   "version": "3.8.18"
  }
 },
 "nbformat": 4,
 "nbformat_minor": 2
}
