{
 "cells": [
  {
   "cell_type": "code",
   "execution_count": 1,
   "metadata": {},
   "outputs": [],
   "source": [
    "import os "
   ]
  },
  {
   "cell_type": "code",
   "execution_count": 2,
   "metadata": {},
   "outputs": [
    {
     "data": {
      "text/plain": [
       "'c:\\\\Users\\\\PC\\\\Desktop\\\\Maintenance-cost-reduction\\\\research'"
      ]
     },
     "execution_count": 2,
     "metadata": {},
     "output_type": "execute_result"
    }
   ],
   "source": [
    "%pwd"
   ]
  },
  {
   "cell_type": "code",
   "execution_count": 3,
   "metadata": {},
   "outputs": [],
   "source": [
    "os.chdir('../')"
   ]
  },
  {
   "cell_type": "code",
   "execution_count": 4,
   "metadata": {},
   "outputs": [],
   "source": [
    "from dataclasses import dataclass\n",
    "from src.constant import *\n",
    "from pathlib import Path\n",
    "from src.utils.common import load_yaml,create_directories"
   ]
  },
  {
   "cell_type": "code",
   "execution_count": 5,
   "metadata": {},
   "outputs": [],
   "source": [
    "@dataclass(frozen=True)\n",
    "class DataIngestionConfig:\n",
    "     root_dir: Path\n",
    "     source_URL: str"
   ]
  },
  {
   "cell_type": "code",
   "execution_count": 6,
   "metadata": {},
   "outputs": [],
   "source": [
    "class ConfrigurationManager:\n",
    "     def __init__(self,\n",
    "                  config_filepath=CONFIG_PATH,\n",
    "                  params_filepath=PARAMS_PATH,\n",
    "                  schema_filepath=SCHEMA_PATH):\n",
    "          self.config=load_yaml(config_filepath)\n",
    "          self.params=load_yaml(params_filepath)\n",
    "          self.schema=load_yaml(schema_filepath)\n",
    "          create_directories([Path(self.config['artifacts_root'])])\n",
    "     \n",
    "     def get_data_ingestion_config(self)->DataIngestionConfig:\n",
    "          config=self.config.data_ingestion\n",
    "          create_directories([Path(config['root_dir'])])\n",
    "          data_ingestion_config=DataIngestionConfig(\n",
    "               root_dir=config.root_dir,\n",
    "               source_URL=config.source_URL\n",
    "          )\n",
    "          return data_ingestion_config"
   ]
  },
  {
   "cell_type": "code",
   "execution_count": 7,
   "metadata": {},
   "outputs": [],
   "source": [
    "import os \n",
    "import pandas as pd \n",
    "from src.utils.common import get_size"
   ]
  },
  {
   "cell_type": "code",
   "execution_count": 8,
   "metadata": {},
   "outputs": [],
   "source": [
    "class DataIngestion:\n",
    "     def __init__(self,config:DataIngestionConfig):\n",
    "          self.config=config\n",
    "     \n",
    "     def get_data(self):\n",
    "          data=pd.read_csv(self.config.source_URL)\n",
    "          return data\n",
    "     \n",
    "     def save_file(self,data):\n",
    "          save_path=os.path.join(self.config.root_dir,'maintence_costreduction_pred.csv')\n",
    "          data.to_csv(save_path,index=False)\n",
    "          \n",
    "          "
   ]
  },
  {
   "cell_type": "code",
   "execution_count": 9,
   "metadata": {},
   "outputs": [
    {
     "name": "stdout",
     "output_type": "stream",
     "text": [
      "[2024-03-05 00:59:24,545: INFO: common: start the loading  the config\\config.yaml file ]\n",
      "[2024-03-05 00:59:24,547: INFO: common: Load the config\\config.yaml successfully]\n",
      "[2024-03-05 00:59:24,553: INFO: common: start the loading  the params.yaml file ]\n",
      "[2024-03-05 00:59:24,563: INFO: common: Load the params.yaml successfully]\n",
      "[2024-03-05 00:59:24,564: INFO: common: start the loading  the schema.yaml file ]\n",
      "[2024-03-05 00:59:24,569: INFO: common: Load the schema.yaml successfully]\n",
      "[2024-03-05 00:59:24,573: INFO: common: Enter into the create directores in method]\n",
      "[2024-03-05 00:59:24,577: INFO: common: artifacts is create >>>>]\n",
      "[2024-03-05 00:59:24,582: INFO: common: Enter into the create directores in method]\n",
      "[2024-03-05 00:59:24,585: INFO: common: artifacts\\data_ingestion is create >>>>]\n"
     ]
    }
   ],
   "source": [
    "try:\n",
    "     config=ConfrigurationManager()\n",
    "     data_ingestion_config=config.get_data_ingestion_config()\n",
    "     data_ingestion=DataIngestion(data_ingestion_config)\n",
    "     data=data_ingestion.get_data()\n",
    "     data_ingestion.save_file(data)\n",
    "except Exception as e:\n",
    "     raise e"
   ]
  },
  {
   "cell_type": "code",
   "execution_count": null,
   "metadata": {},
   "outputs": [],
   "source": []
  }
 ],
 "metadata": {
  "kernelspec": {
   "display_name": "Python 3",
   "language": "python",
   "name": "python3"
  },
  "language_info": {
   "codemirror_mode": {
    "name": "ipython",
    "version": 3
   },
   "file_extension": ".py",
   "mimetype": "text/x-python",
   "name": "python",
   "nbconvert_exporter": "python",
   "pygments_lexer": "ipython3",
   "version": "3.8.18"
  }
 },
 "nbformat": 4,
 "nbformat_minor": 2
}
