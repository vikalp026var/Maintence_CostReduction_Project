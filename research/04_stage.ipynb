{
 "cells": [
  {
   "cell_type": "code",
   "execution_count": 1,
   "metadata": {},
   "outputs": [],
   "source": [
    "import os "
   ]
  },
  {
   "cell_type": "code",
   "execution_count": 2,
   "metadata": {},
   "outputs": [
    {
     "data": {
      "text/plain": [
       "'c:\\\\Users\\\\PC\\\\Desktop\\\\Maintenance-cost-reduction\\\\research'"
      ]
     },
     "execution_count": 2,
     "metadata": {},
     "output_type": "execute_result"
    }
   ],
   "source": [
    "%pwd"
   ]
  },
  {
   "cell_type": "code",
   "execution_count": 3,
   "metadata": {},
   "outputs": [],
   "source": [
    "os.chdir('../')"
   ]
  },
  {
   "cell_type": "code",
   "execution_count": 4,
   "metadata": {},
   "outputs": [
    {
     "data": {
      "text/plain": [
       "'c:\\\\Users\\\\PC\\\\Desktop\\\\Maintenance-cost-reduction'"
      ]
     },
     "execution_count": 4,
     "metadata": {},
     "output_type": "execute_result"
    }
   ],
   "source": [
    "%pwd"
   ]
  },
  {
   "cell_type": "code",
   "execution_count": 19,
   "metadata": {},
   "outputs": [],
   "source": [
    "from dataclasses import dataclass\n",
    "from src.constant import *\n",
    "from pathlib import Path\n",
    "import pickle \n",
    "import sys \n",
    "from src.exception.exception import CustomException\n",
    "from src.utils.common import load_yaml,create_directories,save_model\n"
   ]
  },
  {
   "cell_type": "code",
   "execution_count": 20,
   "metadata": {},
   "outputs": [],
   "source": [
    "@dataclass(frozen=True)\n",
    "class PredictionConfig:\n",
    "   scale_path: Path\n",
    "   model_path: Path\n",
    "     "
   ]
  },
  {
   "cell_type": "code",
   "execution_count": 21,
   "metadata": {},
   "outputs": [],
   "source": [
    "class ConfrigurationManager:\n",
    "     def __init__(self,\n",
    "                  config_filepath=CONFIG_PATH,\n",
    "                  params_filepath=PARAMS_PATH,\n",
    "                  schema_filepath=SCHEMA_PATH):\n",
    "          self.config=load_yaml(config_filepath)\n",
    "          self.params=load_yaml(params_filepath)\n",
    "          self.schema=load_yaml(schema_filepath)\n",
    "          create_directories([Path(self.config['artifacts_root'])])\n",
    "          \n",
    "     def get_prediction_config(self)->PredictionConfig:\n",
    "          config=self.config.prediction_trainer\n",
    "          \n",
    "          model_trainer_config=PredictionConfig(\n",
    "               scale_path=config.scale_path,\n",
    "               model_path=config.model_path\n",
    "               \n",
    "          )\n",
    "          return model_trainer_config\n",
    "          "
   ]
  },
  {
   "cell_type": "code",
   "execution_count": 22,
   "metadata": {},
   "outputs": [],
   "source": [
    "from flask import request\n",
    "from src.constant import * \n",
    "from src.utils.common import load_pickle"
   ]
  },
  {
   "cell_type": "code",
   "execution_count": 31,
   "metadata": {},
   "outputs": [],
   "source": [
    "import pickle\n",
    "import os\n",
    "import sys\n",
    "\n",
    "# Assuming CustomException is correctly defined elsewhere\n",
    "\n",
    "class Prediction:\n",
    "    def __init__(self, config):\n",
    "        self.config = config\n",
    "\n",
    "    def load_pickle(self, path):\n",
    "        with open(path, 'rb') as f:\n",
    "            return pickle.load(f)\n",
    "\n",
    "    def prediction(self):\n",
    "        try:\n",
    "            path = os.path.join(self.config.model_path, 'model.pkl')\n",
    "            model = self.load_pickle(path)\n",
    "            print(\"Model Load success\")\n",
    "            \n",
    "            scale_path = os.path.join(self.config.scale_path, 'scale.pkl')\n",
    "            scale = self.load_pickle(scale_path)\n",
    "            print(\"Scale load Successfully\")\n",
    "            \n",
    "            # Ensure your feature array matches the expected shape and data preprocessing steps\n",
    "            pred = model.predict(scale.transform([[92258944, 0.0, 0.0, 0.0, 10, 228109, 0.0, 0.0, 3, 15, 0]]))\n",
    "            return pred[0]\n",
    "        except Exception as e:\n",
    "            raise CustomException(e, sys) from e\n"
   ]
  },
  {
   "cell_type": "code",
   "execution_count": 32,
   "metadata": {},
   "outputs": [
    {
     "name": "stdout",
     "output_type": "stream",
     "text": [
      "[2024-03-16 01:36:08,015: INFO: common: start the loading  the config\\config.yaml file ]\n",
      "[2024-03-16 01:36:08,022: INFO: common: Load the config\\config.yaml successfully]\n",
      "[2024-03-16 01:36:08,024: INFO: common: start the loading  the params.yaml file ]\n",
      "[2024-03-16 01:36:08,026: INFO: common: Load the params.yaml successfully]\n",
      "[2024-03-16 01:36:08,028: INFO: common: start the loading  the schema.yaml file ]\n",
      "[2024-03-16 01:36:08,030: INFO: common: Load the schema.yaml successfully]\n",
      "[2024-03-16 01:36:08,030: INFO: common: Enter into the create directores in method]\n",
      "[2024-03-16 01:36:08,032: INFO: common: artifacts is create >>>>]\n",
      "Model Load success\n",
      "Scale load Successfully\n",
      "0\n"
     ]
    },
    {
     "name": "stderr",
     "output_type": "stream",
     "text": [
      "c:\\Users\\PC\\Desktop\\Maintenance-cost-reduction\\cost\\lib\\site-packages\\sklearn\\base.py:465: UserWarning: X does not have valid feature names, but StandardScaler was fitted with feature names\n",
      "  warnings.warn(\n"
     ]
    }
   ],
   "source": [
    "try:\n",
    "     config=ConfrigurationManager()\n",
    "     data_ingestion_config=config.get_prediction_config()\n",
    "     data_ingestion=Prediction(data_ingestion_config)\n",
    "     data=data_ingestion.prediction()\n",
    "     # data_ingestion.save_file(data)\n",
    "     print(data)\n",
    "except Exception as e:\n",
    "     raise e"
   ]
  },
  {
   "cell_type": "code",
   "execution_count": null,
   "metadata": {},
   "outputs": [],
   "source": []
  }
 ],
 "metadata": {
  "kernelspec": {
   "display_name": "Python 3",
   "language": "python",
   "name": "python3"
  },
  "language_info": {
   "codemirror_mode": {
    "name": "ipython",
    "version": 3
   },
   "file_extension": ".py",
   "mimetype": "text/x-python",
   "name": "python",
   "nbconvert_exporter": "python",
   "pygments_lexer": "ipython3",
   "version": "3.8.18"
  }
 },
 "nbformat": 4,
 "nbformat_minor": 2
}
