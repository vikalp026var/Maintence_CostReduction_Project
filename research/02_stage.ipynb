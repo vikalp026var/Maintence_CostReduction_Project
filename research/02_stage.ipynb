{
 "cells": [
  {
   "cell_type": "code",
   "execution_count": 1,
   "metadata": {},
   "outputs": [],
   "source": [
    "import os "
   ]
  },
  {
   "cell_type": "code",
   "execution_count": 2,
   "metadata": {},
   "outputs": [
    {
     "data": {
      "text/plain": [
       "'c:\\\\Users\\\\PC\\\\Desktop\\\\Maintenance-cost-reduction\\\\research'"
      ]
     },
     "execution_count": 2,
     "metadata": {},
     "output_type": "execute_result"
    }
   ],
   "source": [
    "%pwd\n"
   ]
  },
  {
   "cell_type": "code",
   "execution_count": 3,
   "metadata": {},
   "outputs": [],
   "source": [
    "os.chdir('../')"
   ]
  },
  {
   "cell_type": "code",
   "execution_count": 4,
   "metadata": {},
   "outputs": [
    {
     "data": {
      "text/plain": [
       "'c:\\\\Users\\\\PC\\\\Desktop\\\\Maintenance-cost-reduction'"
      ]
     },
     "execution_count": 4,
     "metadata": {},
     "output_type": "execute_result"
    }
   ],
   "source": [
    "%pwd"
   ]
  },
  {
   "cell_type": "code",
   "execution_count": 5,
   "metadata": {},
   "outputs": [],
   "source": [
    "from dataclasses import dataclass\n",
    "from src.constant import *\n",
    "from pathlib import Path\n",
    "from src.exception.exception import CustomException\n",
    "from src.utils.common import load_yaml,create_directories"
   ]
  },
  {
   "cell_type": "code",
   "execution_count": 6,
   "metadata": {},
   "outputs": [],
   "source": [
    "@dataclass(frozen=True)\n",
    "class DataTransformationConfig:\n",
    "     data_path: Path\n",
    "     train_path: Path\n",
    "     test_path:  Path\n",
    "     cleaned_data: Path"
   ]
  },
  {
   "cell_type": "code",
   "execution_count": 7,
   "metadata": {},
   "outputs": [],
   "source": [
    "class ConfrigurationManager:\n",
    "     def __init__(self,\n",
    "                  config_filepath=CONFIG_PATH,\n",
    "                  params_filepath=PARAMS_PATH,\n",
    "                  schema_filepath=SCHEMA_PATH):\n",
    "          self.config=load_yaml(config_filepath)\n",
    "          self.params=load_yaml(params_filepath)\n",
    "          self.schema=load_yaml(schema_filepath)\n",
    "          create_directories([Path(self.config['artifacts_root'])])\n",
    "          \n",
    "     def get_data_tranformation_initiate(self)->DataTransformationConfig:\n",
    "          config=self.config.data_transformation\n",
    "          \n",
    "          data_tranfromation_config=DataTransformationConfig(\n",
    "               data_path=config.data_path,\n",
    "               train_path=config.train_path,\n",
    "               test_path=config.test_path,\n",
    "               cleaned_data=config.cleaned_data\n",
    "               \n",
    "          )\n",
    "          return data_tranfromation_config\n",
    "          "
   ]
  },
  {
   "cell_type": "code",
   "execution_count": 8,
   "metadata": {},
   "outputs": [],
   "source": [
    "from sklearn.preprocessing import LabelEncoder\n",
    "from sklearn.model_selection import train_test_split\n",
    "import os \n",
    "import sys \n",
    "import pandas as pd \n",
    "import numpy as np "
   ]
  },
  {
   "cell_type": "code",
   "execution_count": 17,
   "metadata": {},
   "outputs": [],
   "source": [
    "class Data_Transformation:\n",
    "     def __init__(self,config:DataTransformationConfig):\n",
    "          self.config=config\n",
    "     \n",
    "     def convert_date(self,df):\n",
    "          try:\n",
    "               df['date']=pd.to_datetime(df['date'])\n",
    "\n",
    "               df['Year'] = df['date'].apply(lambda x: x.year)\n",
    "               df['months'] = df['date'].apply(lambda x: x.month)\n",
    "               df['day'] = df['date'].apply(lambda x: x.day)\n",
    "               # print(df)\n",
    "\n",
    "               df.drop(columns=['Year'],inplace=True,axis=1)\n",
    "               return df\n",
    "          except Exception as e:\n",
    "               raise CustomException(e,sys)\n",
    "\n",
    "     \n",
    "     def convert_skewness(self,data):\n",
    "          try:\n",
    "               date=self.convert_date(data)\n",
    "               for num in [\"2\",\"3\",\"4\",\"7\",\"8\",\"9\"]:\n",
    "                    date[f'metric{num}'] = np.log1p(date[f'metric{num}'])\n",
    "               date.drop(columns=['metric8'],inplace=True,axis=1)\n",
    "               return date\n",
    "          except Exception as e:\n",
    "               raise CustomException(e)\n",
    "          \n",
    "          \n",
    "          \n",
    "     def convert_model_name(self,data):\n",
    "          try:\n",
    "               data1=self.convert_skewness(data)\n",
    "               data1['model_name']=data1['device'].apply(lambda x:x[:4])\n",
    "               # Assuming `data` is your DataFrame and you want to remove rows where `model_name` equals 'Z1F2'\n",
    "               # data = data[data['model_name'] != 'Z1F2']\n",
    "               label=LabelEncoder()\n",
    "               data1['model_name']=label.fit_transform(data1['model_name'])\n",
    "               return data1\n",
    "               \n",
    "\n",
    "          except Exception as e:\n",
    "               raise CustomException(e,sys)\n",
    "          \n",
    "     def clean_data(self,data):\n",
    "          try:\n",
    "               data2=self.convert_model_name(data)\n",
    "               # print(data2)\n",
    "               save_path=os.path.join(self.config.cleaned_data,'cleaned_data')\n",
    "               \n",
    "               # import os\n",
    "\n",
    "               # # Assuming `save_path` is the full path to the file, including the filename\n",
    "               # save_path = os.path.join(self.config.cleaned_data, 'cleaned_data.csv')\n",
    "\n",
    "               # Create the directory if it does not exist\n",
    "               os.makedirs(os.path.dirname(save_path), exist_ok=True)\n",
    "\n",
    "               # Now you can safely save the DataFrame\n",
    "               # data2.to_csv(save_path, index=False)\n",
    "\n",
    "               data2.to_csv(save_path,index=False)\n",
    "               return data2\n",
    "               \n",
    "          except Exception as e:\n",
    "               raise CustomException(e,sys)\n",
    "          \n",
    "     def train_test_split(self):\n",
    "          try:\n",
    "               data1=pd.read_csv(self.config.data_path)\n",
    "               data=self.clean_data(data1)\n",
    "               train_data,test_data=train_test_split(data,test_size=0.22,random_state=42)\n",
    "               train_data.drop(columns=['date','device'],inplace=True,axis=1)\n",
    "               test_data.drop(columns=['date','device'],inplace=True,axis=1)\n",
    "               save_path1=os.path.join(self.config.train_path,'train_data')\n",
    "               os.makedirs(os.path.dirname(save_path1), exist_ok=True)\n",
    "               # data.to_csv(save_path,index=False)\n",
    "               save_path2=os.path.join(self.config.test_path,'test_data')\n",
    "               os.makedirs(os.path.dirname(save_path2), exist_ok=True)\n",
    "               train_data.to_csv(save_path1,index=False)\n",
    "               test_data.to_csv(save_path2,index=False)\n",
    "               return train_data,test_data\n",
    "               \n",
    "          except Exception as e:\n",
    "               raise CustomException(e,sys)\n",
    "               "
   ]
  },
  {
   "cell_type": "code",
   "execution_count": 18,
   "metadata": {},
   "outputs": [
    {
     "name": "stdout",
     "output_type": "stream",
     "text": [
      "[2024-03-08 15:56:30,415: INFO: common: start the loading  the config\\config.yaml file ]\n",
      "[2024-03-08 15:56:30,420: INFO: common: Load the config\\config.yaml successfully]\n",
      "[2024-03-08 15:56:30,420: INFO: common: start the loading  the params.yaml file ]\n",
      "[2024-03-08 15:56:30,424: INFO: common: Load the params.yaml successfully]\n",
      "[2024-03-08 15:56:30,425: INFO: common: start the loading  the schema.yaml file ]\n",
      "[2024-03-08 15:56:30,429: INFO: common: Load the schema.yaml successfully]\n",
      "[2024-03-08 15:56:30,429: INFO: common: Enter into the create directores in method]\n",
      "[2024-03-08 15:56:30,430: INFO: common: artifacts is create >>>>]\n"
     ]
    },
    {
     "name": "stderr",
     "output_type": "stream",
     "text": [
      "C:\\Users\\PC\\AppData\\Local\\Temp\\ipykernel_22744\\1406222452.py:7: UserWarning: Could not infer format, so each element will be parsed individually, falling back to `dateutil`. To ensure parsing is consistent and as-expected, please specify a format.\n",
      "  df['date']=pd.to_datetime(df['date'])\n"
     ]
    }
   ],
   "source": [
    "try:\n",
    "     config=ConfrigurationManager()\n",
    "     data_ingestion_config=config.get_data_tranformation_initiate()\n",
    "     data_ingestion=Data_Transformation(data_ingestion_config)\n",
    "     data=data_ingestion.train_test_split()\n",
    "     # data_ingestion.save_file(data)\n",
    "except Exception as e:\n",
    "     raise e"
   ]
  },
  {
   "cell_type": "code",
   "execution_count": null,
   "metadata": {},
   "outputs": [],
   "source": []
  },
  {
   "cell_type": "code",
   "execution_count": null,
   "metadata": {},
   "outputs": [],
   "source": []
  }
 ],
 "metadata": {
  "kernelspec": {
   "display_name": "Python 3",
   "language": "python",
   "name": "python3"
  },
  "language_info": {
   "codemirror_mode": {
    "name": "ipython",
    "version": 3
   },
   "file_extension": ".py",
   "mimetype": "text/x-python",
   "name": "python",
   "nbconvert_exporter": "python",
   "pygments_lexer": "ipython3",
   "version": "3.8.18"
  }
 },
 "nbformat": 4,
 "nbformat_minor": 2
}
